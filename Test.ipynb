{
 "cells": [
  {
   "cell_type": "code",
   "execution_count": 1,
   "metadata": {},
   "outputs": [
    {
     "name": "stderr",
     "output_type": "stream",
     "text": [
      "/Users/nickgravish/anaconda/lib/python3.6/site-packages/matplotlib/__init__.py:1405: UserWarning: \n",
      "This call to matplotlib.use() has no effect because the backend has already\n",
      "been chosen; matplotlib.use() must be called *before* pylab, matplotlib.pyplot,\n",
      "or matplotlib.backends is imported for the first time.\n",
      "\n",
      "  warnings.warn(_use_error_msg)\n"
     ]
    }
   ],
   "source": [
    "import matplotlib.pyplot as plt\n",
    "import numpy as np\n",
    "\n",
    "import BEEtag as BT\n",
    "\n",
    "from PIL import Image\n",
    "import imp # for debugging\n",
    "%matplotlib qt5"
   ]
  },
  {
   "cell_type": "code",
   "execution_count": 5,
   "metadata": {
    "collapsed": true
   },
   "outputs": [],
   "source": [
    "%qtconsole"
   ]
  },
  {
   "cell_type": "markdown",
   "metadata": {},
   "source": [
    "## Test tracking with a single image"
   ]
  },
  {
   "cell_type": "code",
   "execution_count": 7,
   "metadata": {},
   "outputs": [
    {
     "name": "stdout",
     "output_type": "stream",
     "text": [
      "threshold = 0\r\n",
      "threshold type = True\r\n",
      "col mode = 1\r\n",
      "size tag_list = 0\r\n",
      "robust_track = False\n"
     ]
    },
    {
     "data": {
      "text/plain": [
       "105"
      ]
     },
     "execution_count": 7,
     "metadata": {},
     "output_type": "execute_result"
    }
   ],
   "source": [
    "imp.reload(BT)\n",
    "\n",
    "im = np.array(Image.open('./data/scaleExample.png'))\n",
    "\n",
    "a = BT.BEEtag(visualize=0)\n",
    "print(a)\n",
    "\n",
    "a.set_image(im)\n",
    "a.threshold_image()\n",
    "a.find_valid_regions()\n",
    "a.find_square_regions()\n",
    "\n",
    "a.transform_to_grid()\n",
    "a.get_codes()\n",
    "len(a.regions)\n"
   ]
  },
  {
   "cell_type": "code",
   "execution_count": 4,
   "metadata": {},
   "outputs": [],
   "source": [
    "# imp.reload(bt)\n",
    "\n",
    "a.get_codes()\n",
    "\n",
    "# drawing stuff\n",
    "plt.figure()\n",
    "plt.imshow(a.im)\n",
    "\n",
    "plt.figure()\n",
    "plt.imshow(a.im_gray)\n",
    "\n",
    "plt.figure()\n",
    "plt.imshow(a.BW_Label)\n",
    "\n",
    "plt.figure()\n",
    "for kk, (reg, x, y) in enumerate(zip(a.regions, a.contour_x_points, a.contour_y_points)):\n",
    "    plt.subplot(len(a.regions) / 2 + 1, 2, kk+1)\n",
    "    plt.imshow(reg.filled_image, interpolation='nearest')\n",
    "    plt.title(len(x))\n",
    "    plt.plot(x, y, 'o-')\n",
    "\n",
    "a.draw_possible_regions()\n",
    "\n",
    "a.draw_quad_regions()"
   ]
  },
  {
   "cell_type": "code",
   "execution_count": null,
   "metadata": {
    "collapsed": true
   },
   "outputs": [],
   "source": []
  }
 ],
 "metadata": {
  "kernelspec": {
   "display_name": "Python 3",
   "language": "python",
   "name": "python3"
  },
  "language_info": {
   "codemirror_mode": {
    "name": "ipython",
    "version": 3
   },
   "file_extension": ".py",
   "mimetype": "text/x-python",
   "name": "python",
   "nbconvert_exporter": "python",
   "pygments_lexer": "ipython3",
   "version": "3.6.1"
  }
 },
 "nbformat": 4,
 "nbformat_minor": 2
}
