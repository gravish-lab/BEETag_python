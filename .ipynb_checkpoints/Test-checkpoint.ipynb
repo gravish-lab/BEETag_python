{
 "cells": [
  {
   "cell_type": "code",
   "execution_count": 11,
   "metadata": {},
   "outputs": [],
   "source": [
    "import matplotlib.pyplot as plt\n",
    "import numpy as np\n",
    "\n",
    "import BEEtag as BT\n",
    "\n",
    "from PIL import Image\n",
    "import imp # for debugging\n",
    "%matplotlib qt5"
   ]
  },
  {
   "cell_type": "code",
   "execution_count": 10,
   "metadata": {
    "collapsed": true
   },
   "outputs": [],
   "source": [
    "%qtconsole"
   ]
  },
  {
   "cell_type": "markdown",
   "metadata": {},
   "source": [
    "## Test tracking with a single image"
   ]
  },
  {
   "cell_type": "code",
   "execution_count": 6,
   "metadata": {},
   "outputs": [
    {
     "name": "stdout",
     "output_type": "stream",
     "text": [
      "threshold = 0\r\n",
      "threshold type = True\r\n",
      "col mode = 1\r\n",
      "size tag_list = 0\r\n",
      "robust_track = False\n"
     ]
    }
   ],
   "source": [
    "im = np.array(Image.open('./data/scaleExample.png'))\n",
    "\n",
    "a = BT.BEEtag(visualize=0)\n",
    "print(a)\n",
    "\n",
    "a.set_image(im)\n",
    "a.find_valid_regions()\n",
    "a.find_square_regions()\n",
    "\n",
    "a.transform_to_grid()\n",
    "\n",
    "a.undistort_squares()\n"
   ]
  },
  {
   "cell_type": "code",
   "execution_count": 13,
   "metadata": {},
   "outputs": [],
   "source": [
    "imp.reload(bt)\n",
    "\n",
    "a.get_codes()\n",
    "\n",
    "plt.clf()\n",
    "\n",
    "# drawing stuff\n",
    "plt.subplot(331)\n",
    "plt.imshow(a.im)\n",
    "\n",
    "plt.subplot(332)\n",
    "plt.imshow(a.im_gray)\n",
    "\n",
    "plt.subplot(333)\n",
    "plt.imshow(a.BW_Label)\n",
    "\n",
    "plt.subplot(334)\n",
    "for kk, (reg, x, y) in enumerate(zip(a.regions, a.contour_x_points, a.contour_y_points)):\n",
    "    plt.subplot(len(a.regions) / 2 + 1, 2, kk+1)\n",
    "    plt.imshow(reg.filled_image, interpolation='nearest')\n",
    "    plt.title(len(x))\n",
    "    plt.plot(x, y, 'o-')\n",
    "\n",
    "a.draw_possible_regions()\n",
    "\n",
    "a.draw_quad_regions()"
   ]
  },
  {
   "cell_type": "code",
   "execution_count": null,
   "metadata": {
    "collapsed": true
   },
   "outputs": [],
   "source": []
  }
 ],
 "metadata": {
  "kernelspec": {
   "display_name": "Python 3",
   "language": "python",
   "name": "python3"
  },
  "language_info": {
   "codemirror_mode": {
    "name": "ipython",
    "version": 3
   },
   "file_extension": ".py",
   "mimetype": "text/x-python",
   "name": "python",
   "nbconvert_exporter": "python",
   "pygments_lexer": "ipython3",
   "version": "3.6.1"
  }
 },
 "nbformat": 4,
 "nbformat_minor": 2
}
